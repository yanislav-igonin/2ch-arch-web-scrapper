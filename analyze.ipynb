{
 "cells": [
  {
   "cell_type": "code",
   "execution_count": 8,
   "metadata": {},
   "outputs": [],
   "source": [
    "# read dataset from csv\n",
    "import pandas as pd\n",
    "\n",
    "dataset = pd.read_csv('dataset_id-date-title-link.csv')"
   ]
  },
  {
   "cell_type": "code",
   "execution_count": 9,
   "metadata": {},
   "outputs": [],
   "source": [
    "# for every record take year and add it to the record\n",
    "dataset['year'] = dataset['date'].apply(lambda x: x.split('-')[0])"
   ]
  },
  {
   "cell_type": "code",
   "execution_count": 10,
   "metadata": {},
   "outputs": [],
   "source": [
    "# for every record take month and add it to the record\n",
    "dataset['month'] = dataset['date'].apply(lambda x: x.split('-')[1])"
   ]
  },
  {
   "cell_type": "code",
   "execution_count": 11,
   "metadata": {},
   "outputs": [],
   "source": [
    "# for every record take day and add it to the record\n",
    "dataset['day'] = dataset['date'].apply(lambda x: x.split('-')[2])"
   ]
  }
 ],
 "metadata": {
  "interpreter": {
   "hash": "c53de1f1300fc86ab605c0e0184aedf3b4e308b8876da06ea9ad617ec90fe9bd"
  },
  "kernelspec": {
   "display_name": "Python 3.9.12 ('2ch-arch-web-scrapper')",
   "language": "python",
   "name": "python3"
  },
  "language_info": {
   "codemirror_mode": {
    "name": "ipython",
    "version": 3
   },
   "file_extension": ".py",
   "mimetype": "text/x-python",
   "name": "python",
   "nbconvert_exporter": "python",
   "pygments_lexer": "ipython3",
   "version": "3.9.12"
  },
  "orig_nbformat": 4
 },
 "nbformat": 4,
 "nbformat_minor": 2
}
