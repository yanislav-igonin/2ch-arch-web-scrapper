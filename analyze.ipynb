{
 "cells": [
  {
   "cell_type": "code",
   "execution_count": 3,
   "metadata": {},
   "outputs": [],
   "source": [
    "# read dataset from csv\n",
    "import pandas as pd\n",
    "\n",
    "dataset = pd.read_csv('dataset_id-date-title-link.csv')"
   ]
  }
 ],
 "metadata": {
  "interpreter": {
   "hash": "c6d3cddcefaaecd33ecdffdedae86052a6252350bce0325dcdc4a28642fb5253"
  },
  "kernelspec": {
   "display_name": "Python 3.9.12 ('2ch-arch-web-scrapper-Tc91cuKD')",
   "language": "python",
   "name": "python3"
  },
  "language_info": {
   "codemirror_mode": {
    "name": "ipython",
    "version": 3
   },
   "file_extension": ".py",
   "mimetype": "text/x-python",
   "name": "python",
   "nbconvert_exporter": "python",
   "pygments_lexer": "ipython3",
   "version": "3.9.12"
  },
  "orig_nbformat": 4
 },
 "nbformat": 4,
 "nbformat_minor": 2
}
